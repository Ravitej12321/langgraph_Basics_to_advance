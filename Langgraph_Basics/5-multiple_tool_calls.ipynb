{
 "cells": [
  {
   "cell_type": "code",
   "execution_count": 2,
   "id": "0922996e",
   "metadata": {},
   "outputs": [],
   "source": [
    "from langchain_community.tools import ArxivQueryRun,WikipediaQueryRun\n",
    "from langchain_community.utilities import ArxivAPIWrapper,WikipediaAPIWrapper\n"
   ]
  },
  {
   "cell_type": "code",
   "execution_count": 3,
   "id": "8a029dd7",
   "metadata": {},
   "outputs": [
    {
     "name": "stdout",
     "output_type": "stream",
     "text": [
      "arxiv\n"
     ]
    }
   ],
   "source": [
    "api_wrapper_arxiv = ArxivAPIWrapper(top_k_results=2,doc_content_chars_max=500)\n",
    "arxiv = ArxivQueryRun(api_wrapper=api_wrapper_arxiv)\n",
    "print(arxiv.name)"
   ]
  },
  {
   "cell_type": "code",
   "execution_count": 4,
   "id": "bd731059",
   "metadata": {},
   "outputs": [
    {
     "data": {
      "text/plain": [
       "\"Published: 2024-07-22\\nTitle: Attention Is All You Need But You Don't Need All Of It For Inference of Large Language Models\\nAuthors: Georgy Tyukin, Gbetondji J-S Dovonon, Jean Kaddour, Pasquale Minervini\\nSummary: The inference demand for LLMs has skyrocketed in recent months, and serving\\nmodels with low latencies remains challenging due to the quadratic input length\\ncomplexity of the attention layers. In this work, we investigate the effect of\\ndropping MLP and attention layers at inference time o\""
      ]
     },
     "execution_count": 4,
     "metadata": {},
     "output_type": "execute_result"
    }
   ],
   "source": [
    "arxiv.invoke('attention is all you need')"
   ]
  },
  {
   "cell_type": "code",
   "execution_count": 5,
   "id": "6edbeb8d",
   "metadata": {},
   "outputs": [
    {
     "data": {
      "text/plain": [
       "'wikipedia'"
      ]
     },
     "execution_count": 5,
     "metadata": {},
     "output_type": "execute_result"
    }
   ],
   "source": [
    "api_wrapper_wiki = WikipediaAPIWrapper(top_k_results=2,doc_content_chars_max=500)\n",
    "wiki = WikipediaQueryRun(api_wrapper=api_wrapper_wiki)\n",
    "wiki.name"
   ]
  },
  {
   "cell_type": "code",
   "execution_count": 6,
   "id": "3be4a0ed",
   "metadata": {},
   "outputs": [
    {
     "name": "stderr",
     "output_type": "stream",
     "text": [
      "c:\\Users\\ADMIN\\Desktop\\Langchain_Langraph\\.venv\\Lib\\site-packages\\wikipedia\\wikipedia.py:389: GuessedAtParserWarning: No parser was explicitly specified, so I'm using the best available HTML parser for this system (\"html.parser\"). This usually isn't a problem, but if you run this code on another system, or in a different virtual environment, it may use a different parser and behave differently.\n",
      "\n",
      "The code that caused this warning is on line 389 of the file c:\\Users\\ADMIN\\Desktop\\Langchain_Langraph\\.venv\\Lib\\site-packages\\wikipedia\\wikipedia.py. To get rid of this warning, pass the additional argument 'features=\"html.parser\"' to the BeautifulSoup constructor.\n",
      "\n",
      "  lis = BeautifulSoup(html).find_all('li')\n"
     ]
    },
    {
     "data": {
      "text/plain": [
       "'Page: National Diet\\nSummary: The National Diet (国会, Kokkai; Japanese pronunciation: [kok.kai]) is the national legislature of Japan. It is composed of a lower house, called the House of Representatives (衆議院, Shūgiin), and an upper house, the House of Councillors (参議院, Sangiin). Both houses are directly elected under a parallel voting system. In addition to passing laws, the Diet is formally responsible for nominating the prime minister. The Diet was first established as the Imperial Diet in 1890'"
      ]
     },
     "execution_count": 6,
     "metadata": {},
     "output_type": "execute_result"
    }
   ],
   "source": [
    "wiki.invoke('Diet')"
   ]
  },
  {
   "cell_type": "code",
   "execution_count": 10,
   "id": "96a43912",
   "metadata": {},
   "outputs": [],
   "source": [
    "from dotenv import load_dotenv\n",
    "load_dotenv()\n",
    "import os\n",
    "tavily_api_key = os.getenv('TAVILY_API_KEY')\n",
    "groq_api_key = os.getenv('GROQ_API_KEY')"
   ]
  },
  {
   "cell_type": "code",
   "execution_count": 11,
   "id": "637b8b2a",
   "metadata": {},
   "outputs": [
    {
     "data": {
      "text/plain": [
       "[{'title': 'The latest AI news we announced in June',\n",
       "  'url': 'https://blog.google/technology/ai/google-ai-updates-june-2025/',\n",
       "  'content': '# The latest AI news we announced in June\\n\\nJul 02, 2025\\n\\nHere’s a recap of some of our biggest AI updates from June, including more ways to search with AI Mode, a new way to share your NotebookLM notebooks publicly, and a new AI to help researchers better understand the human genome.\\n\\nSuperG\\n\\n## Basic explainer [...] a text card reading \"AI to revolutionize scientific discovery\"\\n\\nWe introduced AlphaGenome: AI to better understand the human genome. Our new, unifying DNA sequence model advances regulatory variant-effect prediction and promises to shed new light on genome function. To advance scientific research, we’re making AlphaGenome available in preview via our AlphaGenome API for non-commercial research, with plans to release the model in the future. [...] For more than 20 years, we’ve invested in machine learning and AI research, tools and infrastructure to build products that make everyday life better for more people. Teams across Google are working on ways to unlock AI’s benefits in fields as wide-ranging as healthcare, crisis response and education. To keep you posted on our progress, we\\'re doing a regular roundup of Google\\'s most recent AI news.\\n\\nHere’s a look back at some of our AI announcements from June.',\n",
       "  'score': 0.6803909},\n",
       " {'title': 'AI News & Artificial Intelligence - TechCrunch',\n",
       "  'url': 'https://techcrunch.com/category/artificial-intelligence/',\n",
       "  'content': 'LLM word with icons as vector illustration. AI concept of Large Language Models\\n\\n### Seoul-based Datumo raises $15.5M to take on Scale AI, backed by Salesforce\\n\\nNvidia\\n\\n### Nvidia unveils new Cosmos world models, infra for robotics and physical uses\\n\\nElon Musk next to large red Tesla logo\\n\\n### Elon Musk confirms shutdown of Tesla Dojo, ‘an evolutionary dead end’\\n\\nthe NVIDIA booth at the 3rd China International Supply Chain Expo in Beijing, China, on July 20, 2025 [...] ### Leaked Meta AI rules show chatbots were allowed to have romantic chats with kids\\n\\nMultiverse Computing founders\\n\\n### Buzzy AI startup Multiverse creates two of the smallest high-performing models ever\\n\\nGoogle Flight Deals\\n\\n### Google pushes AI into flight deals as antitrust scrutiny, competition heat up\\n\\nJoelle Pineau\\n\\n### Cohere hires long-time Meta research head Joelle Pineau as its chief AI officer\\n\\nBox CEO Aaron Levie on stage at TechCrunch Disrupt in San Francisco in 2019. [...] ### AI companion apps on track to pull in $120M in 2025\\n\\nDavid Petrou\\n\\n### Google vet raises $8M for Continua to bring AI agents to group chats\\n\\nAravind Srinivas, Co-Founder & CEO of Perplexity, speaks onstage during TechCrunch Disrupt 2024 in San Francisco, California.\\n\\n### Perplexity offers to buy Chrome for billions more than it’s raised\\n\\nAnthropic Co-Founder & CEO Dario Amodei speaks onstage during TechCrunch Disrupt 2023 at Moscone Center.',\n",
       "  'score': 0.62770075},\n",
       " {'title': 'Three Biggest AI Stories in August 2025',\n",
       "  'url': 'https://etcjournal.com/2025/08/13/three-biggest-ai-stories-in-august-2025/',\n",
       "  'content': 'The unveiling of GPT-5 by OpenAI on August 7, 2025, set a new benchmark for generative AI. GPT-5 introduces a step-change in technical capabilities, especially in reasoning and multi-modal understanding. Its ability to integrate text, image, and voice processing in a unified model marks a significant evolution from previous generations. Benchmarks suggest a 40% improvement over GPT-4 in handling complex reasoning tasks, from scientific problem-solving to autonomous coding and data analysis. [...] # Educational Technology and Change Journal\\n\\n## Recent Posts\\n\\n## Recent Comments [...] August 2025 witnessed a pivotal milestone in scientific automation when researchers at Stanford University, alongside the Chan Zuckerberg Biohub, successfully demonstrated autonomous multi-agent AI labs. Here, expert AI agents—including Principal Investigator bots, specialized researchers, and critics—collaborated independently to conceive and validate new COVID-19 nanobodies with minimal human input. movetheneedle',\n",
       "  'score': 0.5914643},\n",
       " {'title': 'The State of AI 2025',\n",
       "  'url': 'https://www.bvp.com/atlas/the-state-of-ai-2025',\n",
       "  'content': \"## 1. The browser will emerge as a dominant interface for agentic AI\\n\\nAs agentic AI evolves, the browser is emerging as a potential environment for autonomous execution—not just a tool for navigation, but a programmable interface to the entire digital world.\\n\\n## 2. 2026 will be the year of generative video [...] Let's start with the obvious: a handful of players such as OpenAI, Anthropic, Gemini, Llama and xAI continue to dominate the foundation model landscape, advancing model performance, while simultaneously exploring vertical integration. It’s clear now that big labs are moving beyond offering just foundation models and tooling for model development—these labs are now rolling out agents for coding, computer use, and MCP integrations. Meanwhile, compute costs continue to drop predictably—driven by [...] 2024 marked the mainstream inflection point for generative image models. 2025 saw a similar breakout in voice, driven by improvements in latency, awareness, human-likeness, and customization, coupled with massive cost reductions. 2026 is shaping up to be the year video crosses the chasm. Model quality—across Google’s Veo 3, Kling, OpenAI’s Sora, Moonvalley’s Marey, and emerging open-source stacks—is accelerating. We're nearing a tipping point in controllability, accessibility, and realism, that\",\n",
       "  'score': 0.53050464},\n",
       " {'title': 'Artificial intelligence | Massachusetts Institute of Technology',\n",
       "  'url': 'https://news.mit.edu/topic/artificial-intelligence2',\n",
       "  'content': 'MIT engineers used a machine-learning model to design nanoparticles that can deliver RNA to cells more efficiently.\\n\\nAugust 15, 2025\\n\\nRead full story →\\n\\nPills overlaying a neural network\\n\\n### Using generative AI, researchers design compounds that can kill drug-resistant bacteria\\n\\nThe team used two different AI approaches to design novel antibiotics, including one that showed promise against MRSA.\\n\\nAugust 14, 2025\\n\\nRead full story → [...] Read full story →\\n\\n2 by 2 grid of headshots\\n\\n### School of Architecture and Planning welcomes new faculty for 2025\\n\\nFour new professors join the Department of Architecture and MIT Media Lab.\\n\\nAugust 6, 2025\\n\\nRead full story →\\n\\nFuturistic looking server room\\n\\n### Helping data storage keep up with the AI revolution\\n\\nStorage systems from Cloudian, co-founded by an MIT alumnus, are helping businesses feed data-hungry AI models and agents at scale.\\n\\nAugust 6, 2025\\n\\nRead full story → [...] Neural Jacobian Fields, developed by MIT CSAIL researchers, can learn to control any robot from a single camera, without any other sensors.\\n\\nJuly 24, 2025\\n\\nRead full story →\\n\\nPeople walking in a city\\n\\n### Pedestrians now walk faster and linger less, researchers find\\n\\nA computer vision study compares changes in pedestrian behavior since 1980, providing information for urban designers about creating public spaces.\\n\\nJuly 24, 2025\\n\\nRead full story →',\n",
       "  'score': 0.5008063}]"
      ]
     },
     "execution_count": 11,
     "metadata": {},
     "output_type": "execute_result"
    }
   ],
   "source": [
    "from langchain_community.tools.tavily_search import TavilySearchResults\n",
    "tavily = TavilySearchResults()\n",
    "tavily.invoke('provide me recent ai news')"
   ]
  },
  {
   "cell_type": "code",
   "execution_count": 12,
   "id": "29a92124",
   "metadata": {},
   "outputs": [],
   "source": [
    "tools = [arxiv,wiki,tavily]\n"
   ]
  },
  {
   "cell_type": "code",
   "execution_count": 14,
   "id": "b331e971",
   "metadata": {},
   "outputs": [],
   "source": [
    "from langchain_groq import ChatGroq\n",
    "\n",
    "model_client = ChatGroq(model='gemma2-9b-it')\n",
    "\n",
    "model_with_tools = model_client.bind_tools(tools)"
   ]
  },
  {
   "cell_type": "code",
   "execution_count": 16,
   "id": "6d16f5b8",
   "metadata": {},
   "outputs": [
    {
     "data": {
      "text/plain": [
       "[{'name': 'tavily_search_results_json',\n",
       "  'args': {'query': 'recent ai innovation'},\n",
       "  'id': 'ehg9s3vx5',\n",
       "  'type': 'tool_call'}]"
      ]
     },
     "execution_count": 16,
     "metadata": {},
     "output_type": "execute_result"
    }
   ],
   "source": [
    "from pprint import pprint\n",
    "from langchain_core.messages import AIMessage,HumanMessage\n",
    "model_with_tools.invoke([HumanMessage(content='what is the recent ai innovation')]).tool_calls\n"
   ]
  },
  {
   "cell_type": "markdown",
   "id": "7f6ce9b4",
   "metadata": {},
   "source": [
    "### Entire chatbot with langgraph"
   ]
  },
  {
   "cell_type": "code",
   "execution_count": 18,
   "id": "6b030e15",
   "metadata": {},
   "outputs": [],
   "source": [
    "from IPython.display import Image\n",
    "from langgraph.graph import StateGraph,START,END\n",
    "from langgraph.prebuilt import ToolNode\n",
    "from langgraph.prebuilt import tools_condition\n",
    "from typing import TypedDict,Annotated,List\n",
    "from langchain_core.messages import AnyMessage\n",
    "from langgraph.graph import add_messages \n",
    "# State Schema\n",
    "class state(TypedDict):\n",
    "    messages:Annotated[List[AnyMessage],add_messages]\n",
    "\n",
    "def tool_calling_llm(state:state):\n",
    "    return {'messages':[model_with_tools.invoke(state['messages'])]}\n"
   ]
  },
  {
   "cell_type": "code",
   "execution_count": 19,
   "id": "b82b8d45",
   "metadata": {},
   "outputs": [],
   "source": [
    "graph = StateGraph(state)\n",
    "graph.add_node('tool_calling_llm',tool_calling_llm)\n",
    "\n",
    "graph.add_node('tools',ToolNode(tools))\n",
    "graph.add_edge(START,'tool_calling_llm')\n",
    "graph.add_conditional_edges(\"tool_calling_llm\",tools_condition)\n",
    "graph.add_edge('tools',END)\n",
    "graph_builder = graph.compile()"
   ]
  },
  {
   "cell_type": "code",
   "execution_count": 21,
   "id": "21741613",
   "metadata": {},
   "outputs": [
    {
     "data": {
      "image/png": "[encoded data removed]",
      "text/plain": [
       "<IPython.core.display.Image object>"
      ]
     },
     "metadata": {},
     "output_type": "display_data"
    }
   ],
   "source": [
    "display(Image(graph_builder.get_graph().draw_mermaid_png()))"
   ]
  },
  {
   "cell_type": "code",
   "execution_count": 22,
   "id": "4ac2d0aa",
   "metadata": {},
   "outputs": [
    {
     "name": "stdout",
     "output_type": "stream",
     "text": [
      "================================\u001b[1m Human Message \u001b[0m=================================\n",
      "\n",
      "1706.03762\n",
      "==================================\u001b[1m Ai Message \u001b[0m==================================\n",
      "Tool Calls:\n",
      "  arxiv (ycwj0we4j)\n",
      " Call ID: ycwj0we4j\n",
      "  Args:\n",
      "    query: 1706.03762\n",
      "=================================\u001b[1m Tool Message \u001b[0m=================================\n",
      "Name: arxiv\n",
      "\n",
      "Published: 2023-08-02\n",
      "Title: Attention Is All You Need\n",
      "Authors: Ashish Vaswani, Noam Shazeer, Niki Parmar, Jakob Uszkoreit, Llion Jones, Aidan N. Gomez, Lukasz Kaiser, Illia Polosukhin\n",
      "Summary: The dominant sequence transduction models are based on complex recurrent or\n",
      "convolutional neural networks in an encoder-decoder configuration. The best\n",
      "performing models also connect the encoder and decoder through an attention\n",
      "mechanism. We propose a new simple network architecture, the Transformer, base\n"
     ]
    }
   ],
   "source": [
    "messages = graph_builder.invoke({'messages':HumanMessage(content='1706.03762')})\n",
    "for m in messages['messages']:\n",
    "    m.pretty_print()"
   ]
  },
  {
   "cell_type": "markdown",
   "id": "443afc7f",
   "metadata": {},
   "source": [
    "### ReAct : General Agent Architecture"
   ]
  },
  {
   "cell_type": "code",
   "execution_count": 45,
   "id": "eed829ae",
   "metadata": {},
   "outputs": [],
   "source": [
    "def multiply(a:int,b:int)->int:\n",
    "    ''' multiplies a and b\n",
    "        Args: \n",
    "        a: first number\n",
    "        b: Second Number\n",
    "        return : output'''\n",
    "    return a * b"
   ]
  },
  {
   "cell_type": "code",
   "execution_count": 46,
   "id": "32bf8d7c",
   "metadata": {},
   "outputs": [
    {
     "data": {
      "image/png": "[encoded data removed]",
      "text/plain": [
       "<IPython.core.display.Image object>"
      ]
     },
     "metadata": {},
     "output_type": "display_data"
    }
   ],
   "source": [
    "graph = StateGraph(state)\n",
    "graph.add_node('tool_calling_llm',tool_calling_llm)\n",
    "tools = [arxiv,wiki,multiply]\n",
    "graph.add_node('tools',ToolNode(tools))\n",
    "graph.add_edge(START,'tool_calling_llm')\n",
    "graph.add_conditional_edges(\"tool_calling_llm\",tools_condition)\n",
    "graph.add_edge('tools','tool_calling_llm')\n",
    "\n",
    "graph_builder = graph.compile()\n",
    "display(Image(graph_builder.get_graph().draw_mermaid_png()))"
   ]
  },
  {
   "cell_type": "code",
   "execution_count": 48,
   "id": "876d3445",
   "metadata": {},
   "outputs": [
    {
     "name": "stdout",
     "output_type": "stream",
     "text": [
      "================================\u001b[1m Human Message \u001b[0m=================================\n",
      "\n",
      "what is value of multiplication \n",
      "==================================\u001b[1m Ai Message \u001b[0m==================================\n",
      "Tool Calls:\n",
      "  wikipedia (f41v4t7hj)\n",
      " Call ID: f41v4t7hj\n",
      "  Args:\n",
      "    query: multiplication\n",
      "=================================\u001b[1m Tool Message \u001b[0m=================================\n",
      "Name: wikipedia\n",
      "\n",
      "Page: Multiplication\n",
      "Summary: Multiplication is one of the four elementary mathematical operations of arithmetic, with the other ones being addition, subtraction, and division. The result of a multiplication operation is called a product. Multiplication is often denoted by the cross symbol, ×, by the mid-line dot operator, ·, by juxtaposition, or, in programming languages, by an asterisk, *.\n",
      "The multiplication of whole numbers may be thought of as repeated addition; that is, the multiplication o\n",
      "==================================\u001b[1m Ai Message \u001b[0m==================================\n",
      "\n",
      "Multiplication is one of the four basic operations of arithmetic, along with addition, subtraction, and division.  The result of a multiplication is called a product.  \n",
      "\n",
      "Multiplication can be thought of as repeated addition.\n"
     ]
    }
   ],
   "source": [
    "messages = graph_builder.invoke({'messages':HumanMessage(content='what is value of multiplication ')})\n",
    "for m in messages['messages']:\n",
    "    m.pretty_print()"
   ]
  },
  {
   "cell_type": "code",
   "execution_count": null,
   "id": "26e9fe16",
   "metadata": {},
   "outputs": [],
   "source": []
  }
 ],
 "metadata": {
  "kernelspec": {
   "display_name": "Langchain_Langraph",
   "language": "python",
   "name": "python3"
  },
  "language_info": {
   "codemirror_mode": {
    "name": "ipython",
    "version": 3
   },
   "file_extension": ".py",
   "mimetype": "text/x-python",
   "name": "python",
   "nbconvert_exporter": "python",
   "pygments_lexer": "ipython3",
   "version": "3.12.2"
  }
 },
 "nbformat": 4,
 "nbformat_minor": 5
}
