{
 "cells": [
  {
   "cell_type": "markdown",
   "id": "aee90829",
   "metadata": {},
   "source": [
    "# implementing Simple Chatbot using LangGraph"
   ]
  },
  {
   "cell_type": "code",
   "execution_count": 2,
   "id": "6a6cc4cb",
   "metadata": {},
   "outputs": [],
   "source": [
    "from langgraph.graph import StateGraph,START,END\n",
    "from langgraph.graph.message import add_messages\n",
    "from typing_extensions import TypedDict\n",
    "from typing import Annotated"
   ]
  },
  {
   "cell_type": "code",
   "execution_count": 8,
   "id": "abfa9d0c",
   "metadata": {},
   "outputs": [],
   "source": [
    "class State(TypedDict):\n",
    "    messages:Annotated[list,add_messages]"
   ]
  },
  {
   "cell_type": "code",
   "execution_count": 6,
   "id": "f86870e8",
   "metadata": {},
   "outputs": [
    {
     "name": "stderr",
     "output_type": "stream",
     "text": [
      "c:\\Users\\ADMIN\\Desktop\\Langchain_Langraph\\.venv\\Lib\\site-packages\\pydantic\\main.py:253: UserWarning: WARNING! max_completion_tokens is not default parameter.\n",
      "                    max_completion_tokens was transferred to model_kwargs.\n",
      "                    Please confirm that max_completion_tokens is what you intended.\n",
      "  validated_self = self.__pydantic_validator__.validate_python(data, self_instance=self)\n"
     ]
    },
    {
     "data": {
      "text/plain": [
       "AIMessage(content='Hello! 👋\\n\\nWhat can I do for you today? 😊\\n', additional_kwargs={}, response_metadata={'token_usage': {'completion_tokens': 16, 'prompt_tokens': 10, 'total_tokens': 26, 'completion_time': 0.029090909, 'prompt_time': 0.00117339, 'queue_time': 0.250681805, 'total_time': 0.030264299}, 'model_name': 'gemma2-9b-it', 'system_fingerprint': 'fp_10c08bf97d', 'service_tier': 'on_demand', 'finish_reason': 'stop', 'logprobs': None}, id='run--def83bb2-cc42-4f5d-b018-32e13b0efafb-0', usage_metadata={'input_tokens': 10, 'output_tokens': 16, 'total_tokens': 26})"
      ]
     },
     "execution_count": 6,
     "metadata": {},
     "output_type": "execute_result"
    }
   ],
   "source": [
    "import os\n",
    "from dotenv import load_dotenv\n",
    "from langchain_groq import ChatGroq\n",
    "load_dotenv()\n",
    "api_key = os.getenv('GROQ_API_KEY')\n",
    "model_client = ChatGroq(model='gemma2-9b-it',api_key=api_key,max_completion_tokens=20)\n",
    "model_client.invoke(\"hello\")"
   ]
  },
  {
   "cell_type": "markdown",
   "id": "940b1a02",
   "metadata": {},
   "source": [
    "### we will start creating with nodes"
   ]
  },
  {
   "cell_type": "code",
   "execution_count": 9,
   "id": "e91f2201",
   "metadata": {},
   "outputs": [],
   "source": [
    "def chatbot(state:State):\n",
    "    return {'messages':[model_client.invoke(state['messages'])]}\n"
   ]
  },
  {
   "cell_type": "code",
   "execution_count": 10,
   "id": "e3d33b05",
   "metadata": {},
   "outputs": [
    {
     "data": {
      "text/plain": [
       "<langgraph.graph.state.StateGraph at 0x1e0c15bacf0>"
      ]
     },
     "execution_count": 10,
     "metadata": {},
     "output_type": "execute_result"
    }
   ],
   "source": [
    "graph  = StateGraph(State)\n",
    "\n",
    "graph.add_node('Superbot',chatbot)\n",
    "graph.add_edge(START,'Superbot')\n",
    "graph.add_edge('Superbot',END)\n",
    "\n",
    "\n"
   ]
  },
  {
   "cell_type": "code",
   "execution_count": 11,
   "id": "d60f0714",
   "metadata": {},
   "outputs": [
    {
     "data": {
      "image/png": "[encoded data removed]",
      "text/plain": [
       "<IPython.core.display.Image object>"
      ]
     },
     "metadata": {},
     "output_type": "display_data"
    }
   ],
   "source": [
    "graph_builder = graph.compile()\n",
    "\n",
    "from IPython.display import Image,display\n",
    "display(Image(graph_builder.get_graph().draw_mermaid_png()))"
   ]
  },
  {
   "cell_type": "markdown",
   "id": "c86568c7",
   "metadata": {},
   "source": [
    "### Invocation"
   ]
  },
  {
   "cell_type": "code",
   "execution_count": 12,
   "id": "90a036c5",
   "metadata": {},
   "outputs": [
    {
     "data": {
      "text/plain": [
       "{'messages': [HumanMessage(content='Hi my name is ravi', additional_kwargs={}, response_metadata={}, id='f7335bd4-3823-4e82-9d3f-8e380e3053c0'),\n",
       "  AIMessage(content='Hi Ravi, nice to meet you! 👋\\n\\nWhat can I do for you today? 😊', additional_kwargs={}, response_metadata={'token_usage': {'completion_tokens': 20, 'prompt_tokens': 14, 'total_tokens': 34, 'completion_time': 0.036363636, 'prompt_time': 0.00124519, 'queue_time': 0.245598507, 'total_time': 0.037608826}, 'model_name': 'gemma2-9b-it', 'system_fingerprint': 'fp_10c08bf97d', 'service_tier': 'on_demand', 'finish_reason': 'length', 'logprobs': None}, id='run--176a66dd-988c-4f20-ac09-f715d50cddc6-0', usage_metadata={'input_tokens': 14, 'output_tokens': 20, 'total_tokens': 34})]}"
      ]
     },
     "execution_count": 12,
     "metadata": {},
     "output_type": "execute_result"
    }
   ],
   "source": [
    "graph_builder.invoke({'messages':'Hi my name is ravi'})\n"
   ]
  },
  {
   "cell_type": "markdown",
   "id": "8ad48055",
   "metadata": {},
   "source": [
    "### Streaming the Responses"
   ]
  },
  {
   "cell_type": "code",
   "execution_count": 17,
   "id": "d02a842f",
   "metadata": {},
   "outputs": [
    {
     "name": "stdout",
     "output_type": "stream",
     "text": [
      "{'messages': [HumanMessage(content='i am Software Engineer', additional_kwargs={}, response_metadata={}, id='d10966f9-092f-4a8e-a285-d4df880ba39c')]}\n",
      "{'messages': [HumanMessage(content='i am Software Engineer', additional_kwargs={}, response_metadata={}, id='d10966f9-092f-4a8e-a285-d4df880ba39c'), AIMessage(content=\"That's awesome! \\n\\nIt's great to meet another software engineer. \\n\\nWhat\", additional_kwargs={}, response_metadata={'token_usage': {'completion_tokens': 20, 'prompt_tokens': 13, 'total_tokens': 33, 'completion_time': 0.036363636, 'prompt_time': 0.00163602, 'queue_time': 0.815613745, 'total_time': 0.037999656}, 'model_name': 'gemma2-9b-it', 'system_fingerprint': 'fp_10c08bf97d', 'service_tier': 'on_demand', 'finish_reason': 'length', 'logprobs': None}, id='run--0ed3ed45-3d0a-40ac-8e6a-02cf02ab6b66-0', usage_metadata={'input_tokens': 13, 'output_tokens': 20, 'total_tokens': 33})]}\n"
     ]
    }
   ],
   "source": [
    "for event in graph_builder.stream({'messages':'i am Software Engineer'},stream_mode=\"values\"):\n",
    "    print(event)"
   ]
  },
  {
   "cell_type": "code",
   "execution_count": 18,
   "id": "510162ff",
   "metadata": {},
   "outputs": [
    {
     "name": "stdout",
     "output_type": "stream",
     "text": [
      "{'Superbot': {'messages': [AIMessage(content=\"That's awesome! \\n\\nWhat kind of software engineering do you specialize in?  \\n\\nI\", additional_kwargs={}, response_metadata={'token_usage': {'completion_tokens': 20, 'prompt_tokens': 13, 'total_tokens': 33, 'completion_time': 0.036363636, 'prompt_time': 0.00157844, 'queue_time': 0.31892172, 'total_time': 0.037942076}, 'model_name': 'gemma2-9b-it', 'system_fingerprint': 'fp_10c08bf97d', 'service_tier': 'on_demand', 'finish_reason': 'length', 'logprobs': None}, id='run--adabebce-c0c5-4568-b45b-85a062d4a82f-0', usage_metadata={'input_tokens': 13, 'output_tokens': 20, 'total_tokens': 33})]}}\n"
     ]
    }
   ],
   "source": [
    "for event in graph_builder.stream({'messages':'i am Software Engineer'},stream_mode=\"updates\"):\n",
    "    print(event)"
   ]
  },
  {
   "cell_type": "code",
   "execution_count": null,
   "id": "939aab34",
   "metadata": {},
   "outputs": [],
   "source": []
  }
 ],
 "metadata": {
  "kernelspec": {
   "display_name": "Langchain_Langraph",
   "language": "python",
   "name": "python3"
  },
  "language_info": {
   "codemirror_mode": {
    "name": "ipython",
    "version": 3
   },
   "file_extension": ".py",
   "mimetype": "text/x-python",
   "name": "python",
   "nbconvert_exporter": "python",
   "pygments_lexer": "ipython3",
   "version": "3.12.2"
  }
 },
 "nbformat": 4,
 "nbformat_minor": 5
}
