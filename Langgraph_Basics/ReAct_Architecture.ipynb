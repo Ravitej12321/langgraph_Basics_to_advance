{
 "cells": [
  {
   "cell_type": "markdown",
   "id": "0c4a4d3b",
   "metadata": {},
   "source": [
    "### ReAct : General Agent Architecture"
   ]
  },
  {
   "cell_type": "markdown",
   "id": "b0e65cec",
   "metadata": {},
   "source": [
    "* act:the model calls specific tools\n",
    "* Observe: passes the tools output back to the model\n",
    "* Reason: Based on the output response from the tool the model will decide what to do in the next step"
   ]
  },
  {
   "cell_type": "markdown",
   "id": "b986cfa9",
   "metadata": {},
   "source": []
  }
 ],
 "metadata": {
  "language_info": {
   "name": "python"
  }
 },
 "nbformat": 4,
 "nbformat_minor": 5
}
