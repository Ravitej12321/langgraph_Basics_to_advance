{
 "cells": [
  {
   "cell_type": "code",
   "execution_count": 1,
   "id": "afab3aa8",
   "metadata": {},
   "outputs": [
    {
     "name": "stdout",
     "output_type": "stream",
     "text": [
      "name='Ravi' age=34 city='Banglore'\n"
     ]
    }
   ],
   "source": [
    "from pydantic import BaseModel\n",
    "\n",
    "class Person(BaseModel):\n",
    "    name :str\n",
    "    age: int\n",
    "    city : str\n",
    "\n",
    "person = Person(name = 'Ravi',age=34,city='Banglore')\n",
    "print(person)"
   ]
  },
  {
   "cell_type": "code",
   "execution_count": 2,
   "id": "9b4548a1",
   "metadata": {},
   "outputs": [
    {
     "ename": "ValidationError",
     "evalue": "1 validation error for Person\ncity\n  Input should be a valid string [type=string_type, input_value=12, input_type=int]\n    For further information visit https://errors.pydantic.dev/2.11/v/string_type",
     "output_type": "error",
     "traceback": [
      "\u001b[31m---------------------------------------------------------------------------\u001b[39m",
      "\u001b[31mValidationError\u001b[39m                           Traceback (most recent call last)",
      "\u001b[36mCell\u001b[39m\u001b[36m \u001b[39m\u001b[32mIn[2]\u001b[39m\u001b[32m, line 1\u001b[39m\n\u001b[32m----> \u001b[39m\u001b[32m1\u001b[39m person = \u001b[43mPerson\u001b[49m\u001b[43m(\u001b[49m\u001b[43mname\u001b[49m\u001b[43m \u001b[49m\u001b[43m=\u001b[49m\u001b[43m \u001b[49m\u001b[33;43m'\u001b[39;49m\u001b[33;43mRavi\u001b[39;49m\u001b[33;43m'\u001b[39;49m\u001b[43m,\u001b[49m\u001b[43mage\u001b[49m\u001b[43m=\u001b[49m\u001b[32;43m34\u001b[39;49m\u001b[43m,\u001b[49m\u001b[43mcity\u001b[49m\u001b[43m=\u001b[49m\u001b[32;43m12\u001b[39;49m\u001b[43m)\u001b[49m\n\u001b[32m      2\u001b[39m \u001b[38;5;28mprint\u001b[39m(person)\n",
      "\u001b[36mFile \u001b[39m\u001b[32mc:\\Users\\ADMIN\\Desktop\\Langchain_Langraph\\.venv\\Lib\\site-packages\\pydantic\\main.py:253\u001b[39m, in \u001b[36mBaseModel.__init__\u001b[39m\u001b[34m(self, **data)\u001b[39m\n\u001b[32m    251\u001b[39m \u001b[38;5;66;03m# `__tracebackhide__` tells pytest and some other tools to omit this function from tracebacks\u001b[39;00m\n\u001b[32m    252\u001b[39m __tracebackhide__ = \u001b[38;5;28;01mTrue\u001b[39;00m\n\u001b[32m--> \u001b[39m\u001b[32m253\u001b[39m validated_self = \u001b[38;5;28;43mself\u001b[39;49m\u001b[43m.\u001b[49m\u001b[43m__pydantic_validator__\u001b[49m\u001b[43m.\u001b[49m\u001b[43mvalidate_python\u001b[49m\u001b[43m(\u001b[49m\u001b[43mdata\u001b[49m\u001b[43m,\u001b[49m\u001b[43m \u001b[49m\u001b[43mself_instance\u001b[49m\u001b[43m=\u001b[49m\u001b[38;5;28;43mself\u001b[39;49m\u001b[43m)\u001b[49m\n\u001b[32m    254\u001b[39m \u001b[38;5;28;01mif\u001b[39;00m \u001b[38;5;28mself\u001b[39m \u001b[38;5;129;01mis\u001b[39;00m \u001b[38;5;129;01mnot\u001b[39;00m validated_self:\n\u001b[32m    255\u001b[39m     warnings.warn(\n\u001b[32m    256\u001b[39m         \u001b[33m'\u001b[39m\u001b[33mA custom validator is returning a value other than `self`.\u001b[39m\u001b[38;5;130;01m\\n\u001b[39;00m\u001b[33m'\u001b[39m\n\u001b[32m    257\u001b[39m         \u001b[33m\"\u001b[39m\u001b[33mReturning anything other than `self` from a top level model validator isn\u001b[39m\u001b[33m'\u001b[39m\u001b[33mt supported when validating via `__init__`.\u001b[39m\u001b[38;5;130;01m\\n\u001b[39;00m\u001b[33m\"\u001b[39m\n\u001b[32m    258\u001b[39m         \u001b[33m'\u001b[39m\u001b[33mSee the `model_validator` docs (https://docs.pydantic.dev/latest/concepts/validators/#model-validators) for more details.\u001b[39m\u001b[33m'\u001b[39m,\n\u001b[32m    259\u001b[39m         stacklevel=\u001b[32m2\u001b[39m,\n\u001b[32m    260\u001b[39m     )\n",
      "\u001b[31mValidationError\u001b[39m: 1 validation error for Person\ncity\n  Input should be a valid string [type=string_type, input_value=12, input_type=int]\n    For further information visit https://errors.pydantic.dev/2.11/v/string_type"
     ]
    }
   ],
   "source": [
    "person = Person(name = 'Ravi',age=34,city=12)\n",
    "print(person)"
   ]
  },
  {
   "cell_type": "markdown",
   "id": "866b0dd8",
   "metadata": {},
   "source": [
    "person = Person(name = 'Ravi',age=34,city=12)\n",
    "ValidationError: 1 validation error for Person\n",
    "Data validation is happening for city "
   ]
  },
  {
   "cell_type": "code",
   "execution_count": 3,
   "id": "7ab3fdba",
   "metadata": {},
   "outputs": [],
   "source": [
    "from typing import Optional\n",
    "class Employee(BaseModel):\n",
    "    name : str\n",
    "    id : int\n",
    "    salary : Optional[float] = None\n",
    "\n",
    "\n",
    "# Pydantic validates even for the optional fileds when values are provided"
   ]
  },
  {
   "cell_type": "code",
   "execution_count": 4,
   "id": "26e45fd0",
   "metadata": {},
   "outputs": [
    {
     "ename": "ValidationError",
     "evalue": "1 validation error for Employee\nsalary\n  Input should be a valid number, unable to parse string as a number [type=float_parsing, input_value='34k', input_type=str]\n    For further information visit https://errors.pydantic.dev/2.11/v/float_parsing",
     "output_type": "error",
     "traceback": [
      "\u001b[31m---------------------------------------------------------------------------\u001b[39m",
      "\u001b[31mValidationError\u001b[39m                           Traceback (most recent call last)",
      "\u001b[36mCell\u001b[39m\u001b[36m \u001b[39m\u001b[32mIn[4]\u001b[39m\u001b[32m, line 1\u001b[39m\n\u001b[32m----> \u001b[39m\u001b[32m1\u001b[39m emp1 = \u001b[43mEmployee\u001b[49m\u001b[43m(\u001b[49m\u001b[43mname\u001b[49m\u001b[43m=\u001b[49m\u001b[33;43m\"\u001b[39;49m\u001b[33;43mRavi\u001b[39;49m\u001b[33;43m\"\u001b[39;49m\u001b[43m,\u001b[49m\u001b[38;5;28;43mid\u001b[39;49m\u001b[43m=\u001b[49m\u001b[32;43m121\u001b[39;49m\u001b[43m,\u001b[49m\u001b[43msalary\u001b[49m\u001b[43m=\u001b[49m\u001b[33;43m\"\u001b[39;49m\u001b[33;43m34k\u001b[39;49m\u001b[33;43m\"\u001b[39;49m\u001b[43m)\u001b[49m\n\u001b[32m      2\u001b[39m \u001b[38;5;28mprint\u001b[39m(emp1)\n",
      "\u001b[36mFile \u001b[39m\u001b[32mc:\\Users\\ADMIN\\Desktop\\Langchain_Langraph\\.venv\\Lib\\site-packages\\pydantic\\main.py:253\u001b[39m, in \u001b[36mBaseModel.__init__\u001b[39m\u001b[34m(self, **data)\u001b[39m\n\u001b[32m    251\u001b[39m \u001b[38;5;66;03m# `__tracebackhide__` tells pytest and some other tools to omit this function from tracebacks\u001b[39;00m\n\u001b[32m    252\u001b[39m __tracebackhide__ = \u001b[38;5;28;01mTrue\u001b[39;00m\n\u001b[32m--> \u001b[39m\u001b[32m253\u001b[39m validated_self = \u001b[38;5;28;43mself\u001b[39;49m\u001b[43m.\u001b[49m\u001b[43m__pydantic_validator__\u001b[49m\u001b[43m.\u001b[49m\u001b[43mvalidate_python\u001b[49m\u001b[43m(\u001b[49m\u001b[43mdata\u001b[49m\u001b[43m,\u001b[49m\u001b[43m \u001b[49m\u001b[43mself_instance\u001b[49m\u001b[43m=\u001b[49m\u001b[38;5;28;43mself\u001b[39;49m\u001b[43m)\u001b[49m\n\u001b[32m    254\u001b[39m \u001b[38;5;28;01mif\u001b[39;00m \u001b[38;5;28mself\u001b[39m \u001b[38;5;129;01mis\u001b[39;00m \u001b[38;5;129;01mnot\u001b[39;00m validated_self:\n\u001b[32m    255\u001b[39m     warnings.warn(\n\u001b[32m    256\u001b[39m         \u001b[33m'\u001b[39m\u001b[33mA custom validator is returning a value other than `self`.\u001b[39m\u001b[38;5;130;01m\\n\u001b[39;00m\u001b[33m'\u001b[39m\n\u001b[32m    257\u001b[39m         \u001b[33m\"\u001b[39m\u001b[33mReturning anything other than `self` from a top level model validator isn\u001b[39m\u001b[33m'\u001b[39m\u001b[33mt supported when validating via `__init__`.\u001b[39m\u001b[38;5;130;01m\\n\u001b[39;00m\u001b[33m\"\u001b[39m\n\u001b[32m    258\u001b[39m         \u001b[33m'\u001b[39m\u001b[33mSee the `model_validator` docs (https://docs.pydantic.dev/latest/concepts/validators/#model-validators) for more details.\u001b[39m\u001b[33m'\u001b[39m,\n\u001b[32m    259\u001b[39m         stacklevel=\u001b[32m2\u001b[39m,\n\u001b[32m    260\u001b[39m     )\n",
      "\u001b[31mValidationError\u001b[39m: 1 validation error for Employee\nsalary\n  Input should be a valid number, unable to parse string as a number [type=float_parsing, input_value='34k', input_type=str]\n    For further information visit https://errors.pydantic.dev/2.11/v/float_parsing"
     ]
    }
   ],
   "source": [
    "emp1 = Employee(name=\"Ravi\",id=121,salary=\"34k\")\n",
    "print(emp1)"
   ]
  },
  {
   "cell_type": "code",
   "execution_count": 5,
   "id": "06d32340",
   "metadata": {},
   "outputs": [
    {
     "name": "stdout",
     "output_type": "stream",
     "text": [
      "name='Ravi' id=121 salary=34000.0\n"
     ]
    }
   ],
   "source": [
    "emp1 = Employee(name=\"Ravi\",id=121,salary=34000.00)\n",
    "print(emp1)"
   ]
  },
  {
   "cell_type": "code",
   "execution_count": 6,
   "id": "a6f5bcca",
   "metadata": {},
   "outputs": [
    {
     "name": "stdout",
     "output_type": "stream",
     "text": [
      "name='Ravi' id=121 salary=34000.0\n"
     ]
    }
   ],
   "source": [
    "emp1 = Employee(name=\"Ravi\",id=121,salary=34000)\n",
    "print(emp1)"
   ]
  },
  {
   "cell_type": "code",
   "execution_count": 7,
   "id": "b4350036",
   "metadata": {},
   "outputs": [
    {
     "name": "stdout",
     "output_type": "stream",
     "text": [
      "1 validation error for Employee\n",
      "salary\n",
      "  Input should be a valid number, unable to parse string as a number [type=float_parsing, input_value='34k', input_type=str]\n",
      "    For further information visit https://errors.pydantic.dev/2.11/v/float_parsing\n"
     ]
    }
   ],
   "source": [
    "try:\n",
    "    emp1 = Employee(name=\"Ravi\",id=121,salary=\"34k\")\n",
    "    print(emp1)\n",
    "except ValueError as e:\n",
    "    print(e)"
   ]
  },
  {
   "cell_type": "markdown",
   "id": "c10f34da",
   "metadata": {},
   "source": [
    "Even for salary in string it handled into float "
   ]
  },
  {
   "cell_type": "code",
   "execution_count": 8,
   "id": "38f6bfa2",
   "metadata": {},
   "outputs": [
    {
     "name": "stdout",
     "output_type": "stream",
     "text": [
      "name='Ravi' id=121 salary=34999.0\n"
     ]
    }
   ],
   "source": [
    "try:\n",
    "    emp1 = Employee(name=\"Ravi\",id=121,salary=\"34999\")\n",
    "    print(emp1)\n",
    "except ValueError as e:\n",
    "    print(e)"
   ]
  },
  {
   "cell_type": "markdown",
   "id": "42715e5b",
   "metadata": {},
   "source": [
    "Pydantic Fileds = Customization and Constraints\n",
    "beyond basic types allowing us to specify validation rules, aliased and more."
   ]
  },
  {
   "cell_type": "code",
   "execution_count": 10,
   "id": "83fe8ddb",
   "metadata": {},
   "outputs": [],
   "source": [
    "from pydantic import Field,BaseModel\n",
    "class item(BaseModel):\n",
    "    name : str = Field(min_length=2,max_length=10)\n",
    "    price :int = Field(default=15,description= \"User age,defaults to 18\")\n",
    "    email: str = Field(default_factory=lambda:\"user@example.com\",description=\"Default Email Address\")"
   ]
  },
  {
   "cell_type": "code",
   "execution_count": 12,
   "id": "b5887086",
   "metadata": {},
   "outputs": [
    {
     "name": "stdout",
     "output_type": "stream",
     "text": [
      "{'properties': {'name': {'maxLength': 10, 'minLength': 2, 'title': 'Name', 'type': 'string'}, 'price': {'default': 15, 'description': 'User age,defaults to 18', 'title': 'Price', 'type': 'integer'}, 'email': {'description': 'Default Email Address', 'title': 'Email', 'type': 'string'}}, 'required': ['name'], 'title': 'item', 'type': 'object'}\n"
     ]
    }
   ],
   "source": [
    "print(item.model_json_schema())"
   ]
  },
  {
   "cell_type": "code",
   "execution_count": null,
   "id": "607ae334",
   "metadata": {},
   "outputs": [],
   "source": []
  }
 ],
 "metadata": {
  "kernelspec": {
   "display_name": "Langchain_Langraph",
   "language": "python",
   "name": "python3"
  },
  "language_info": {
   "codemirror_mode": {
    "name": "ipython",
    "version": 3
   },
   "file_extension": ".py",
   "mimetype": "text/x-python",
   "name": "python",
   "nbconvert_exporter": "python",
   "pygments_lexer": "ipython3",
   "version": "3.12.2"
  }
 },
 "nbformat": 4,
 "nbformat_minor": 5
}
